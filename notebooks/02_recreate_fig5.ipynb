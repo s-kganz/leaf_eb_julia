{
 "cells": [
  {
   "cell_type": "markdown",
   "id": "b3b7c33a-d18d-4bbb-9f4d-37341fcd1b6e",
   "metadata": {},
   "source": [
    "## Recreate Figure 5 from Still et al. (2022)\n",
    "\n",
    "For all the detail involved in their energy balance model, the authors of this paper only show data from the energy balance approach in Figure 5. This notebook describes how we can reproduce this figure in Cropbox. The figure and caption in question are shown below:\n",
    "\n",
    "<div style=\"width: 25%\">\n",
    "<img src=\"https://www.pnas.org/cms/10.1073/pnas.2205682119/asset/c1f4c47f-b43e-4c51-bdd4-06e804390d1f/assets/images/large/pnas.2205682119fig05.jpg\"/>\n",
    "<i>Modeled Tleaf − Tair (black solid line), leaf heating from Rnet (W m−2, red dotted line), and leaf cooling from transpiration (blue dashed line) at BCI (in °C) shown in (A). A typical example of a 6-d summer period for modeled Tleaf versus measured Tair (both °C) at Metolius (B) and BCI (C) for representative rain-free periods (May 25–June 1, 2015 and June 12–18, 2015, respectively). Color shading is by hour of day.</i>\n",
    "</div>\n",
    "\n",
    "The data used to produce this figure is [available from Zenodo](https://zenodo.org/records/6862565) as `.Rdata` files. I downloaded these, converted to CSV, and uploaded to the `data` directory for convenience."
   ]
  },
  {
   "cell_type": "code",
   "execution_count": null,
   "id": "a8ff079b-b334-480f-b9dc-6b5b21e03b1d",
   "metadata": {},
   "outputs": [],
   "source": []
  }
 ],
 "metadata": {
  "kernelspec": {
   "display_name": "Julia 1.9.3",
   "language": "julia",
   "name": "julia-1.9"
  },
  "language_info": {
   "file_extension": ".jl",
   "mimetype": "application/julia",
   "name": "julia",
   "version": "1.9.3"
  }
 },
 "nbformat": 4,
 "nbformat_minor": 5
}
